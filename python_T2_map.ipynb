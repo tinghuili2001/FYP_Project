{
 "cells": [
  {
   "cell_type": "code",
   "execution_count": 9,
   "metadata": {},
   "outputs": [],
   "source": [
    "import numpy as np\n",
    "import matplotlib.pyplot as plt\n",
    "import scipy\n",
    "from scipy.optimize import curve_fit\n",
    "\n",
    "\n",
    "def exponential_decay(TE, S0, T2_star):\n",
    "    return S0 * np.exp(-TE / T2_star)"
   ]
  },
  {
   "cell_type": "code",
   "execution_count": 10,
   "metadata": {},
   "outputs": [],
   "source": [
    "\n",
    "def load_matlab_data(file_path):\n",
    "    \"\"\"\n",
    "    Load MATLAB data from a .mat file into Python.\n",
    "\n",
    "    Parameters:\n",
    "    - file_path: Path to the .mat file.\n",
    "\n",
    "    Returns:\n",
    "    - data: Dictionary with variable names from MATLAB as keys and loaded matrices as values.\n",
    "    \"\"\"\n",
    "    data = scipy.io.loadmat(file_path)\n",
    "    return data\n"
   ]
  },
  {
   "cell_type": "code",
   "execution_count": 11,
   "metadata": {},
   "outputs": [],
   "source": [
    "\n",
    "def perform_t2_star_mapping_3d(img_data, echo_times):\n",
    "    \"\"\"\n",
    "    Perform T2* mapping on 3D MRI data.\n",
    "\n",
    "    Parameters:\n",
    "    - img_data: 4D numpy array with shape (rows, columns, slices, echoTimes)\n",
    "    - echo_times: 1D numpy array containing the echo times (TE) in milliseconds.\n",
    "\n",
    "    Returns:\n",
    "    - T2_star_map: 3D numpy array with shape (rows, columns, slices) containing the T2* values.\n",
    "    \"\"\"\n",
    "    # Initialize the T2* map\n",
    "    rows, cols, slices, _ = img_data.shape\n",
    "    T2_star_map = np.zeros((rows, cols, slices))\n",
    "    \n",
    "    # Iterate over each slice and pixel to fit the signal decay\n",
    "    for k in range(slices):\n",
    "        for i in range(rows):\n",
    "            for j in range(cols):\n",
    "                signal_decay = img_data[i, j, k, :].astype(float)\n",
    "                \n",
    "                if np.all(signal_decay == 0):\n",
    "                    continue\n",
    "                \n",
    "                try:\n",
    "                    # Fit the signal decay to the exponential model\n",
    "                    popt, _ = curve_fit(exponential_decay, echo_times, signal_decay, p0=(signal_decay[0], 50))\n",
    "                    T2_star_map[i, j, k] = popt[1]  # T2* value is the second parameter\n",
    "                except RuntimeError:\n",
    "                    # If the fitting fails, set T2* to zero (or could use NaN)\n",
    "                    T2_star_map[i, j, k] = 0\n",
    "    \n",
    "    # Handle negative and unrealistic T2* values\n",
    "    T2_star_map[T2_star_map < 0] = 0\n",
    "    \n",
    "    return T2_star_map\n"
   ]
  },
  {
   "cell_type": "code",
   "execution_count": 12,
   "metadata": {},
   "outputs": [],
   "source": [
    "\n",
    "def display_slice(T2_star_map, slice_index):\n",
    "    \"\"\"\n",
    "    Display a single slice from the T2* map.\n",
    "\n",
    "    Parameters:\n",
    "    - T2_star_map: 3D numpy array with the T2* values.\n",
    "    - slice_index: Index of the slice to display.\n",
    "    \"\"\"\n",
    "    plt.figure()\n",
    "    plt.imshow(T2_star_map[:, :, slice_index], cmap='jet')\n",
    "    plt.colorbar()\n",
    "    plt.title(f'T2* Map of Slice {slice_index}')\n",
    "    plt.xlabel('Pixel X Coordinate')\n",
    "    plt.ylabel('Pixel Y Coordinate')\n",
    "    plt.show()\n"
   ]
  },
  {
   "cell_type": "code",
   "execution_count": 14,
   "metadata": {},
   "outputs": [],
   "source": [
    "# Example usage\n",
    "file_path = '/Users/tinghuili/Downloads/combined_data.mat'\n",
    "data = load_matlab_data(file_path)\n",
    "\n",
    "# Access a specific variable (e.g., 'your_variable_name') from the loaded data\n",
    "your_variable = data['combinedData']\n",
    "echo_times = np.array([0.27, 1.19, 2.19, 3.08])"
   ]
  },
  {
   "cell_type": "code",
   "execution_count": 15,
   "metadata": {},
   "outputs": [
    {
     "name": "stderr",
     "output_type": "stream",
     "text": [
      "/Users/tinghuili/anaconda3/lib/python3.11/site-packages/scipy/optimize/_minpack_py.py:1010: OptimizeWarning: Covariance of the parameters could not be estimated\n",
      "  warnings.warn('Covariance of the parameters could not be estimated',\n",
      "/var/folders/yf/qd0y3f9j4t94j0mb0fq1xfwc0000gn/T/ipykernel_2685/455902646.py:8: RuntimeWarning: overflow encountered in exp\n",
      "  return S0 * np.exp(-TE / T2_star)\n"
     ]
    },
    {
     "ename": "KeyboardInterrupt",
     "evalue": "",
     "output_type": "error",
     "traceback": [
      "\u001b[0;31m---------------------------------------------------------------------------\u001b[0m",
      "\u001b[0;31mKeyboardInterrupt\u001b[0m                         Traceback (most recent call last)",
      "\u001b[1;32mUntitled-1.ipynb Cell 6\u001b[0m line \u001b[0;36m1\n\u001b[0;32m----> <a href='vscode-notebook-cell:Untitled-1.ipynb?jupyter-notebook#W5sdW50aXRsZWQ%3D?line=0'>1</a>\u001b[0m perform_t2_star_mapping_3d(your_variable, echo_times)\n",
      "\u001b[1;32mUntitled-1.ipynb Cell 6\u001b[0m line \u001b[0;36m2\n\u001b[1;32m     <a href='vscode-notebook-cell:Untitled-1.ipynb?jupyter-notebook#W5sdW50aXRsZWQ%3D?line=22'>23</a>\u001b[0m     \u001b[39mcontinue\u001b[39;00m\n\u001b[1;32m     <a href='vscode-notebook-cell:Untitled-1.ipynb?jupyter-notebook#W5sdW50aXRsZWQ%3D?line=24'>25</a>\u001b[0m \u001b[39mtry\u001b[39;00m:\n\u001b[1;32m     <a href='vscode-notebook-cell:Untitled-1.ipynb?jupyter-notebook#W5sdW50aXRsZWQ%3D?line=25'>26</a>\u001b[0m     \u001b[39m# Fit the signal decay to the exponential model\u001b[39;00m\n\u001b[0;32m---> <a href='vscode-notebook-cell:Untitled-1.ipynb?jupyter-notebook#W5sdW50aXRsZWQ%3D?line=26'>27</a>\u001b[0m     popt, _ \u001b[39m=\u001b[39m curve_fit(exponential_decay, echo_times, signal_decay, p0\u001b[39m=\u001b[39m(signal_decay[\u001b[39m0\u001b[39m], \u001b[39m50\u001b[39m))\n\u001b[1;32m     <a href='vscode-notebook-cell:Untitled-1.ipynb?jupyter-notebook#W5sdW50aXRsZWQ%3D?line=27'>28</a>\u001b[0m     T2_star_map[i, j, k] \u001b[39m=\u001b[39m popt[\u001b[39m1\u001b[39m]  \u001b[39m# T2* value is the second parameter\u001b[39;00m\n\u001b[1;32m     <a href='vscode-notebook-cell:Untitled-1.ipynb?jupyter-notebook#W5sdW50aXRsZWQ%3D?line=28'>29</a>\u001b[0m \u001b[39mexcept\u001b[39;00m \u001b[39mRuntimeError\u001b[39;00m:\n\u001b[1;32m     <a href='vscode-notebook-cell:Untitled-1.ipynb?jupyter-notebook#W5sdW50aXRsZWQ%3D?line=29'>30</a>\u001b[0m     \u001b[39m# If the fitting fails, set T2* to zero (or could use NaN)\u001b[39;00m\n",
      "File \u001b[0;32m~/anaconda3/lib/python3.11/site-packages/scipy/optimize/_minpack_py.py:963\u001b[0m, in \u001b[0;36mcurve_fit\u001b[0;34m(f, xdata, ydata, p0, sigma, absolute_sigma, check_finite, bounds, method, jac, full_output, nan_policy, **kwargs)\u001b[0m\n\u001b[1;32m    960\u001b[0m \u001b[39mif\u001b[39;00m ydata\u001b[39m.\u001b[39msize \u001b[39m!=\u001b[39m \u001b[39m1\u001b[39m \u001b[39mand\u001b[39;00m n \u001b[39m>\u001b[39m ydata\u001b[39m.\u001b[39msize:\n\u001b[1;32m    961\u001b[0m     \u001b[39mraise\u001b[39;00m \u001b[39mTypeError\u001b[39;00m(\u001b[39mf\u001b[39m\u001b[39m\"\u001b[39m\u001b[39mThe number of func parameters=\u001b[39m\u001b[39m{\u001b[39;00mn\u001b[39m}\u001b[39;00m\u001b[39m must not\u001b[39m\u001b[39m\"\u001b[39m\n\u001b[1;32m    962\u001b[0m                     \u001b[39mf\u001b[39m\u001b[39m\"\u001b[39m\u001b[39m exceed the number of data points=\u001b[39m\u001b[39m{\u001b[39;00mydata\u001b[39m.\u001b[39msize\u001b[39m}\u001b[39;00m\u001b[39m\"\u001b[39m)\n\u001b[0;32m--> 963\u001b[0m res \u001b[39m=\u001b[39m leastsq(func, p0, Dfun\u001b[39m=\u001b[39mjac, full_output\u001b[39m=\u001b[39m\u001b[39m1\u001b[39m, \u001b[39m*\u001b[39m\u001b[39m*\u001b[39mkwargs)\n\u001b[1;32m    964\u001b[0m popt, pcov, infodict, errmsg, ier \u001b[39m=\u001b[39m res\n\u001b[1;32m    965\u001b[0m ysize \u001b[39m=\u001b[39m \u001b[39mlen\u001b[39m(infodict[\u001b[39m'\u001b[39m\u001b[39mfvec\u001b[39m\u001b[39m'\u001b[39m])\n",
      "File \u001b[0;32m~/anaconda3/lib/python3.11/site-packages/scipy/optimize/_minpack_py.py:428\u001b[0m, in \u001b[0;36mleastsq\u001b[0;34m(func, x0, args, Dfun, full_output, col_deriv, ftol, xtol, gtol, maxfev, epsfcn, factor, diag)\u001b[0m\n\u001b[1;32m    426\u001b[0m     \u001b[39mif\u001b[39;00m maxfev \u001b[39m==\u001b[39m \u001b[39m0\u001b[39m:\n\u001b[1;32m    427\u001b[0m         maxfev \u001b[39m=\u001b[39m \u001b[39m200\u001b[39m\u001b[39m*\u001b[39m(n \u001b[39m+\u001b[39m \u001b[39m1\u001b[39m)\n\u001b[0;32m--> 428\u001b[0m     retval \u001b[39m=\u001b[39m _minpack\u001b[39m.\u001b[39m_lmdif(func, x0, args, full_output, ftol, xtol,\n\u001b[1;32m    429\u001b[0m                              gtol, maxfev, epsfcn, factor, diag)\n\u001b[1;32m    430\u001b[0m \u001b[39melse\u001b[39;00m:\n\u001b[1;32m    431\u001b[0m     \u001b[39mif\u001b[39;00m col_deriv:\n",
      "File \u001b[0;32m~/anaconda3/lib/python3.11/site-packages/scipy/optimize/_minpack_py.py:507\u001b[0m, in \u001b[0;36m_lightweight_memoizer.<locals>._memoized_func\u001b[0;34m(params)\u001b[0m\n\u001b[1;32m    504\u001b[0m \u001b[39mif\u001b[39;00m np\u001b[39m.\u001b[39mall(_memoized_func\u001b[39m.\u001b[39mlast_params \u001b[39m==\u001b[39m params):\n\u001b[1;32m    505\u001b[0m     \u001b[39mreturn\u001b[39;00m _memoized_func\u001b[39m.\u001b[39mlast_val\n\u001b[0;32m--> 507\u001b[0m val \u001b[39m=\u001b[39m f(params)\n\u001b[1;32m    509\u001b[0m \u001b[39mif\u001b[39;00m _memoized_func\u001b[39m.\u001b[39mlast_params \u001b[39mis\u001b[39;00m \u001b[39mNone\u001b[39;00m:\n\u001b[1;32m    510\u001b[0m     _memoized_func\u001b[39m.\u001b[39mlast_params \u001b[39m=\u001b[39m np\u001b[39m.\u001b[39mcopy(params)\n",
      "File \u001b[0;32m~/anaconda3/lib/python3.11/site-packages/scipy/optimize/_minpack_py.py:522\u001b[0m, in \u001b[0;36m_wrap_func.<locals>.func_wrapped\u001b[0;34m(params)\u001b[0m\n\u001b[1;32m    520\u001b[0m \u001b[39mdef\u001b[39;00m \u001b[39m_wrap_func\u001b[39m(func, xdata, ydata, transform):\n\u001b[1;32m    521\u001b[0m     \u001b[39mif\u001b[39;00m transform \u001b[39mis\u001b[39;00m \u001b[39mNone\u001b[39;00m:\n\u001b[0;32m--> 522\u001b[0m         \u001b[39mdef\u001b[39;00m \u001b[39mfunc_wrapped\u001b[39m(params):\n\u001b[1;32m    523\u001b[0m             \u001b[39mreturn\u001b[39;00m func(xdata, \u001b[39m*\u001b[39mparams) \u001b[39m-\u001b[39m ydata\n\u001b[1;32m    524\u001b[0m     \u001b[39melif\u001b[39;00m transform\u001b[39m.\u001b[39mndim \u001b[39m==\u001b[39m \u001b[39m1\u001b[39m:\n",
      "\u001b[0;31mKeyboardInterrupt\u001b[0m: "
     ]
    }
   ],
   "source": [
    "perform_t2_star_mapping_3d(your_variable, echo_times)"
   ]
  }
 ],
 "metadata": {
  "kernelspec": {
   "display_name": "base",
   "language": "python",
   "name": "python3"
  },
  "language_info": {
   "codemirror_mode": {
    "name": "ipython",
    "version": 3
   },
   "file_extension": ".py",
   "mimetype": "text/x-python",
   "name": "python",
   "nbconvert_exporter": "python",
   "pygments_lexer": "ipython3",
   "version": "3.11.5"
  }
 },
 "nbformat": 4,
 "nbformat_minor": 2
}
